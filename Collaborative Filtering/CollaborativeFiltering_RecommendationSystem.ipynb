{
 "cells": [
  {
   "cell_type": "markdown",
   "metadata": {},
   "source": [
    "# COLLABORATIVE FILTERING\n",
    "Collaborative Filtering (CF) is one of the recommendation system that seeks to predict the \"rating\" or \"preference\" a user would give to an item.<BR>\n",
    "The process of information is filtered by collecting human judgments (ratings).<BR>\n",
    "The user is any individual who provides ratings to a system, while the items is anything for which a human can provide a rating.<br>\n",
    "The problem of collaborative filtering is to predict how well a user will like an item that he has not rated given a set of historical preference judgments for a community of users."
   ]
  },
  {
   "cell_type": "markdown",
   "metadata": {},
   "source": [
    "## Dataset :\n",
    "The Datasets we used in this modeling is movie rating from 24 users on 10 movies, which is :\n",
    "- Ada Apa dengan Cinta 2\n",
    "- Aladdin\n",
    "- Avengers: End Game\n",
    "- Bumi Manusia\n",
    "- Captain Marvel\n",
    "- Dilan 1991\n",
    "- Dua Garis Biru\n",
    "- Gundala\n",
    "- Spiderman: Far From Home\n",
    "- The Lion King"
   ]
  },
  {
   "cell_type": "markdown",
   "metadata": {},
   "source": [
    "# I. Import Libraries\n",
    "To get started, let's import the libraries."
   ]
  },
  {
   "cell_type": "code",
   "execution_count": 1,
   "metadata": {},
   "outputs": [],
   "source": [
    "from datafilm import dataset\n",
    "from math import sqrt"
   ]
  },
  {
   "cell_type": "markdown",
   "metadata": {},
   "source": [
    "## Notes :\n",
    "In this modeling, the data defined as 'dataset' variable already saved as JSON format in datafilm.py. So, we just need to import 'dataset' from datafilm.py."
   ]
  },
  {
   "cell_type": "markdown",
   "metadata": {},
   "source": [
    "# II. Define and Compute Similarity Score\n",
    "This similarity score is used to measure of how much alike two data objects are (in this case between users). Similarity measure in a data mining context is a distance with dimensions representing features of the objects. If this distance is small, it will be the high degree of similarity where large distance will be the low degree of similarity."
   ]
  },
  {
   "cell_type": "code",
   "execution_count": 2,
   "metadata": {},
   "outputs": [],
   "source": [
    "def similarity_score(person1,person2):\n",
    "\n",
    "    # this Returns the ration euclidean distancen score of person 1 and 2\n",
    "\n",
    "    # To get both rated items by person 1 and 2\n",
    "    both_viewed = {}\n",
    "\n",
    "    for item in dataset[person1]:\n",
    "        if item in dataset[person2]:\n",
    "            both_viewed[item] = 1\n",
    "        \n",
    "        # The Conditions to check if they both have common rating items\n",
    "        if len(both_viewed) == 0:\n",
    "            return 0\n",
    "\n",
    "        # Finding Euclidean distance\n",
    "        sum_of_eclidean_distance = []\n",
    "\n",
    "        for item in dataset[person1]:\n",
    "            if item in dataset[person2]:\n",
    "                sum_of_eclidean_distance.append(pow(dataset[person1][item] - dataset[person2][item], 2))\n",
    "        sum_of_eclidean_distance = sum(sum_of_eclidean_distance)\n",
    "        \n",
    "        return 1/(1+sqrt(sum_of_eclidean_distance))"
   ]
  },
  {
   "cell_type": "markdown",
   "metadata": {},
   "source": [
    "# III. Define and Compute Pearson Correlation\n",
    "Correlation is used for understanding relationship between two or more variables. Correlation captures the association between two variables, numerically. Pearson correlation quantifies the linear relationship between two variables (in this case we find correlation between users). Pearson correlation coefficient can lie between -1 and +1, like other correlation measures. A positive Pearson corelation mean that one variable’s value increases with the others. And a negative Pearson coefficient  means one variable decreases as other variable decreases. Correlations coefficients of -1 or +1 mean the relationship is exactly linear."
   ]
  },
  {
   "cell_type": "code",
   "execution_count": 3,
   "metadata": {},
   "outputs": [],
   "source": [
    "def person_correlation(person1, person2):\n",
    "\n",
    "   # To get both rated items\n",
    "    both_rated = {}\n",
    "    for item in dataset[person1]:\n",
    "        if item in dataset[person2]:\n",
    "            both_rated[item] = 1\n",
    "\n",
    "    number_of_ratings = len(both_rated)\n",
    "\n",
    "    # Checking for ratings in common\n",
    "    if number_of_ratings == 0:\n",
    "        return 0\n",
    "\n",
    "    # Add up all the preferences of each user\n",
    "    person1_preferences_sum = sum([dataset[person1][item] for item in both_rated])\n",
    "    person2_preferences_sum = sum([dataset[person2][item] for item in both_rated])\n",
    "\n",
    "    # Sum up the squares of preferences of each user\n",
    "    person1_square_preferences_sum = sum([pow(dataset[person1][item],2) for item in both_rated])\n",
    "    person2_square_preferences_sum = sum([pow(dataset[person2][item],2) for item in both_rated])\n",
    "\n",
    "    # Sum up the product value of both preferences for each item\n",
    "    product_sum_of_both_users = sum([dataset[person1][item] * dataset[person2][item] for item in both_rated])\n",
    "\n",
    "    # Calculate the pearson score\n",
    "    numerator_value = product_sum_of_both_users - (person1_preferences_sum*person2_preferences_sum/number_of_ratings)\n",
    "    denominator_value = sqrt((person1_square_preferences_sum - pow(person1_preferences_sum,2)/number_of_ratings) * (person2_square_preferences_sum -pow(person2_preferences_sum,2)/number_of_ratings))\n",
    "\n",
    "    if denominator_value == 0:\n",
    "        return 0\n",
    "    else:\n",
    "        r = numerator_value / denominator_value\n",
    "        return r"
   ]
  },
  {
   "cell_type": "markdown",
   "metadata": {},
   "source": [
    "# IV. Define and Compute Most Similar Users\n",
    "This 'most similar users' computation is used to find users for something like \"training\" data."
   ]
  },
  {
   "cell_type": "code",
   "execution_count": 4,
   "metadata": {},
   "outputs": [],
   "source": [
    "def most_similar_users(person, number_of_users):\n",
    "\n",
    "    # returns the number_of_users (similar persons) for a given specific person\n",
    "    scores = [(person_correlation(person, other_person), other_person) for other_person in dataset if other_person != person]\n",
    "\n",
    "    # Sort the similar persons so the highest scores person will appear at the first\n",
    "    scores.sort()\n",
    "    scores.reverse()\n",
    "    return scores[0:number_of_users]"
   ]
  },
  {
   "cell_type": "markdown",
   "metadata": {},
   "source": [
    "# V. Calculate User Recommendation\n",
    "Finally we can calculate recommendation for users by filtering about the interests of a user by collecting preferences or taste information from many users (collaborating)."
   ]
  },
  {
   "cell_type": "code",
   "execution_count": 5,
   "metadata": {},
   "outputs": [],
   "source": [
    "def user_recommendations(person):\n",
    "\n",
    "    # Gets recommendations for a person by using a weighted average of every other user's rankings\n",
    "    totals = {}\n",
    "    simSums = {}\n",
    "    rankings_list =[]\n",
    "    for other in dataset:\n",
    "        # don't compare me to myself\n",
    "        if other == person:\n",
    "            continue\n",
    "        sim = person_correlation(person,other)\n",
    "        #print \">>>>>>>\",sim\n",
    "\n",
    "        # ignore scores of zero or lower\n",
    "        if sim <=0: \n",
    "            continue\n",
    "        for item in dataset[other]:\n",
    "\n",
    "            # only score movies i haven't seen yet\n",
    "            if item not in dataset[person] or dataset[person][item] == 0:\n",
    "\n",
    "            # Similrity * score\n",
    "                totals.setdefault(item,0)\n",
    "                totals[item] += dataset[other][item]* sim\n",
    "                # sum of similarities\n",
    "                simSums.setdefault(item,0)\n",
    "                simSums[item]+= sim\n",
    "\n",
    "        # Create the normalized list\n",
    "\n",
    "    rankings = [(total/simSums[item],item) for item,total in totals.items()]\n",
    "    rankings.sort()\n",
    "    #rankings.sort(reverse=True)\n",
    "    rankings.reverse()\n",
    "    # returns the recommended items\n",
    "    recommendataions_list = [recommend_item for score,recommend_item in rankings]\n",
    "    return recommendataions_list, rankings"
   ]
  },
  {
   "cell_type": "code",
   "execution_count": 10,
   "metadata": {},
   "outputs": [
    {
     "name": "stdout",
     "output_type": "stream",
     "text": [
      "(['Ada Apa dengan Cinta 2', 'Dua Garis Biru', 'Bumi Manusia '], [(2.4392626020510484, 'Ada Apa dengan Cinta 2'), (1.2497054043395917, 'Dua Garis Biru'), (0.4997733439738271, 'Bumi Manusia ')])\n",
      "0.5636570923081838\n",
      "0.12077134402462537\n"
     ]
    }
   ],
   "source": [
    "print(user_recommendations('bunga'))\n",
    "print(person_correlation('bunga', 'Rima'))\n",
    "print(similarity_score('bunga', 'Rima'))"
   ]
  },
  {
   "cell_type": "markdown",
   "metadata": {},
   "source": [
    "# VI. Conclusion\n",
    "**User Recommendation**\n",
    "From the results above, we can see that the model give user some movie recommendation, which user hasn't been watched or hasn't rated yet. These recommendations are sorted according to the highest rating order of the existing ratings of other users, who have similar ratings with the active user or user that has been watched and rated the movies. <BR>\n",
    "From the result, model gives movie recommendation for 'bunga' that is:\n",
    "    1. Ada Apa dengan Cinta 2\n",
    "    2. Dua Garis Biru\n",
    "    3. Bumi Manusia\n",
    "    \n",
    "**Pearson Correlation**\n",
    "The relationship between user 'bunga' and 'Rima' in movie ratings is 0.564, which means that values of the two of them will increase with each other with a correlation of 0.564.\n",
    "\n",
    "**Similarity Score**\n",
    "The measure of similarity level on movie ratings between 'bunga' and 'Rima' is 0.12 which means that the similarity of their ratings is just as much 0.12.\n",
    "\n",
    "We can conclude that this model can be useful to make recommendation for every items that can be rated and give much can be used such as,\n",
    "- To give recommendation on movie, skin care, make up, and any items that can be rated for users or viewers.\n",
    "- To make ratings for social media users to give recommendation for others about that social media.\n",
    "- To give recommendation on any apps in AppStore or GooglePlay to gain new users.\n",
    "- etc"
   ]
  },
  {
   "cell_type": "code",
   "execution_count": null,
   "metadata": {},
   "outputs": [],
   "source": []
  }
 ],
 "metadata": {
  "kernelspec": {
   "display_name": "Python 3",
   "language": "python",
   "name": "python3"
  },
  "language_info": {
   "codemirror_mode": {
    "name": "ipython",
    "version": 3
   },
   "file_extension": ".py",
   "mimetype": "text/x-python",
   "name": "python",
   "nbconvert_exporter": "python",
   "pygments_lexer": "ipython3",
   "version": "3.6.4"
  }
 },
 "nbformat": 4,
 "nbformat_minor": 2
}

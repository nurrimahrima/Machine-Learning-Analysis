{
 "cells": [
  {
   "attachments": {},
   "cell_type": "markdown",
   "metadata": {},
   "source": [
    "# A/B Test Analysis\n",
    "A/B tests are very commonly performed by data analysts and data scientists. The goal is to understand if a difference between two versions are statistically significant. In business. A/B Testing is used to understand customer behavior with data driven approach, not intuition. Statistical analysis in AB testing is used to determine which variation performs better for a given conversion goal. Running an AB test that directly compares a variation against a current experience that lets you ask focused questions about changes to your website or app, and then collect data about the impact of that change.<br>\n",
    "This modeling can be applicated to analyze and comparing ads, landing pages, welcome email, etc.\n",
    "\n",
    "Usually there are two groups in A/B Test, which is \"Control Group\" and \"Variation Group\". In an A/B test, you take a webpage or app screen and modify it to create a second version of the same page. This change can be as simple as a single headline or button, or be a complete redesign of the page. Then, half of your traffic is shown the original version of the page (known as the control) and half are shown the modified version of the page (the variation).\n",
    "\n",
    "![A/B](https://images.ctfassets.net/zw48pl1isxmc/4QYN7VubAAgEAGs0EuWguw/165749ef2fa01c1c004b6a167fd27835/ab-testing.png)\n",
    "\n",
    "As visitors are served either the control or variation, their engagement with each experience is measured and collected in an analytics dashboard and analyzed through a statistical engine. You can then determine whether changing the experience had a positive, negative, or no effect on visitor behavior.\n",
    "\n",
    "![Capture](Capture.PNG)\n",
    "\n",
    "## Objectives\n",
    "This modeling will be working to understand the results of an A/B test run by an e-commerce website.  Our goal is to help the company understand if they should implement the new page, keep the old page, or perhaps run the experiment longer to make their decision in order to increase the conversion rate. Conversion in this case refers to website visitors who take targeted actions by clicking on a particular link, downloading the desired program, subscribing to a bulletin list, providing personal information as a business leader, buying a product or service, etc.\n",
    "\n",
    "## A/B Test Process\n",
    "- Collect Data\n",
    "- Identify Goals\n",
    "- Generate Hypothesis\n",
    "- Create Variations\n",
    "- Run Experiment\n",
    "- Analyze Results"
   ]
  },
  {
   "cell_type": "markdown",
   "metadata": {},
   "source": [
    "# I. Import Libraries\n",
    "To get started, let's import the libraries."
   ]
  },
  {
   "cell_type": "code",
   "execution_count": 110,
   "metadata": {},
   "outputs": [],
   "source": [
    "import pandas as pd\n",
    "import numpy as np\n",
    "import random\n",
    "import matplotlib.pyplot as plt\n",
    "import statsmodels.api as sm\n",
    "from scipy.stats import norm\n",
    "from scipy import stats\n",
    "from statsmodels.stats import weightstats as stests\n",
    "%matplotlib inline\n",
    "random.seed(42)"
   ]
  },
  {
   "cell_type": "markdown",
   "metadata": {},
   "source": [
    "# II. Load Data\n",
    "Read data to perform A/B Testing by input data as 'data' variable.\n",
    "\n",
    "**Content of Dataset** :\n",
    "- user_id\n",
    "- timestamp\n",
    "- group : <br>\n",
    "  separating between 'control' group and 'treatment' group <br>\n",
    "- landing_page : <br>\n",
    "  the object we're about to test, which is 'old_page' and 'new_page' <br>\n",
    "- converted : <br>\n",
    "  determinant of how these conditions affect the customer, which is : <br>\n",
    "  0 : the desired conversion is not performed <br>\n",
    "  1 : the desired conversion is performed\n",
    "  "
   ]
  },
  {
   "cell_type": "code",
   "execution_count": 45,
   "metadata": {},
   "outputs": [
    {
     "data": {
      "text/html": [
       "<div>\n",
       "<style scoped>\n",
       "    .dataframe tbody tr th:only-of-type {\n",
       "        vertical-align: middle;\n",
       "    }\n",
       "\n",
       "    .dataframe tbody tr th {\n",
       "        vertical-align: top;\n",
       "    }\n",
       "\n",
       "    .dataframe thead th {\n",
       "        text-align: right;\n",
       "    }\n",
       "</style>\n",
       "<table border=\"1\" class=\"dataframe\">\n",
       "  <thead>\n",
       "    <tr style=\"text-align: right;\">\n",
       "      <th></th>\n",
       "      <th>user_id</th>\n",
       "      <th>timestamp</th>\n",
       "      <th>group</th>\n",
       "      <th>landing_page</th>\n",
       "      <th>converted</th>\n",
       "    </tr>\n",
       "  </thead>\n",
       "  <tbody>\n",
       "    <tr>\n",
       "      <th>0</th>\n",
       "      <td>851104</td>\n",
       "      <td>2017-01-21 22:11:48.556739</td>\n",
       "      <td>control</td>\n",
       "      <td>old_page</td>\n",
       "      <td>0</td>\n",
       "    </tr>\n",
       "    <tr>\n",
       "      <th>1</th>\n",
       "      <td>804228</td>\n",
       "      <td>2017-01-12 08:01:45.159739</td>\n",
       "      <td>control</td>\n",
       "      <td>old_page</td>\n",
       "      <td>0</td>\n",
       "    </tr>\n",
       "    <tr>\n",
       "      <th>2</th>\n",
       "      <td>661590</td>\n",
       "      <td>2017-01-11 16:55:06.154213</td>\n",
       "      <td>treatment</td>\n",
       "      <td>new_page</td>\n",
       "      <td>0</td>\n",
       "    </tr>\n",
       "    <tr>\n",
       "      <th>3</th>\n",
       "      <td>853541</td>\n",
       "      <td>2017-01-08 18:28:03.143765</td>\n",
       "      <td>treatment</td>\n",
       "      <td>new_page</td>\n",
       "      <td>0</td>\n",
       "    </tr>\n",
       "    <tr>\n",
       "      <th>4</th>\n",
       "      <td>864975</td>\n",
       "      <td>2017-01-21 01:52:26.210827</td>\n",
       "      <td>control</td>\n",
       "      <td>old_page</td>\n",
       "      <td>1</td>\n",
       "    </tr>\n",
       "  </tbody>\n",
       "</table>\n",
       "</div>"
      ],
      "text/plain": [
       "   user_id                   timestamp      group landing_page  converted\n",
       "0   851104  2017-01-21 22:11:48.556739    control     old_page          0\n",
       "1   804228  2017-01-12 08:01:45.159739    control     old_page          0\n",
       "2   661590  2017-01-11 16:55:06.154213  treatment     new_page          0\n",
       "3   853541  2017-01-08 18:28:03.143765  treatment     new_page          0\n",
       "4   864975  2017-01-21 01:52:26.210827    control     old_page          1"
      ]
     },
     "execution_count": 45,
     "metadata": {},
     "output_type": "execute_result"
    }
   ],
   "source": [
    "data = pd.read_csv('ab_data.csv')\n",
    "data.head()"
   ]
  },
  {
   "cell_type": "markdown",
   "metadata": {},
   "source": [
    "# III. Descriptive Attribute\n",
    "Do some quick-look about data we're about to explore by run the dimension, data type, head/tail, summary statistics, etc \n",
    "to understand the data itself"
   ]
  },
  {
   "cell_type": "code",
   "execution_count": 39,
   "metadata": {},
   "outputs": [
    {
     "data": {
      "text/plain": [
       "(294478, 5)"
      ]
     },
     "execution_count": 39,
     "metadata": {},
     "output_type": "execute_result"
    }
   ],
   "source": [
    "data.shape"
   ]
  },
  {
   "cell_type": "code",
   "execution_count": 40,
   "metadata": {},
   "outputs": [
    {
     "data": {
      "text/plain": [
       "290584"
      ]
     },
     "execution_count": 40,
     "metadata": {},
     "output_type": "execute_result"
    }
   ],
   "source": [
    "#checking number of unique users\n",
    "data['user_id'].nunique()"
   ]
  },
  {
   "cell_type": "code",
   "execution_count": 41,
   "metadata": {},
   "outputs": [
    {
     "data": {
      "text/plain": [
       "0.11965919355605512"
      ]
     },
     "execution_count": 41,
     "metadata": {},
     "output_type": "execute_result"
    }
   ],
   "source": [
    "#proportion of users converted\n",
    "data['converted'].mean()"
   ]
  },
  {
   "cell_type": "markdown",
   "metadata": {},
   "source": [
    "In this modeling, we will use the condition where : <br>\n",
    "   - the 'control' group is 'old_page' <br>\n",
    "   - the 'treatment' group is 'new_page'<br>\n",
    "\n",
    "So, we need to find the other condition that don't line up."
   ]
  },
  {
   "cell_type": "code",
   "execution_count": 42,
   "metadata": {},
   "outputs": [
    {
     "data": {
      "text/plain": [
       "user_id         1928\n",
       "timestamp       1928\n",
       "group           1928\n",
       "landing_page    1928\n",
       "converted       1928\n",
       "dtype: int64"
      ]
     },
     "execution_count": 42,
     "metadata": {},
     "output_type": "execute_result"
    }
   ],
   "source": [
    "#number of times the `new_page` and `treatment` don't line up\n",
    "new_1 = data[(data.group == 'control') & (data.landing_page == 'new_page')]\n",
    "new_1.count()"
   ]
  },
  {
   "cell_type": "code",
   "execution_count": 44,
   "metadata": {},
   "outputs": [
    {
     "data": {
      "text/plain": [
       "user_id         1965\n",
       "timestamp       1965\n",
       "group           1965\n",
       "landing_page    1965\n",
       "converted       1965\n",
       "dtype: int64"
      ]
     },
     "execution_count": 44,
     "metadata": {},
     "output_type": "execute_result"
    }
   ],
   "source": [
    "new_2 = data[(data.group == 'treatment') & (data.landing_page == 'old_page')]\n",
    "new_2.count()"
   ]
  },
  {
   "cell_type": "code",
   "execution_count": 46,
   "metadata": {},
   "outputs": [
    {
     "data": {
      "text/plain": [
       "user_id         3893\n",
       "timestamp       3893\n",
       "group           3893\n",
       "landing_page    3893\n",
       "converted       3893\n",
       "dtype: int64"
      ]
     },
     "execution_count": 46,
     "metadata": {},
     "output_type": "execute_result"
    }
   ],
   "source": [
    "new_1.count() + new_2.count()"
   ]
  },
  {
   "cell_type": "markdown",
   "metadata": {},
   "source": [
    "## Missing Value Detection\n",
    "Identifying any missing values in the data before perform any analysis. It's actually depend on the purpose of the performance, but if there is any missing values, we can cleanse and prepare it by not remove it from dataframe but doing imputation. If the missing values are numerical variable, we can impute it by its median, while if the missing values are categorical variable, we can impute it by its mode."
   ]
  },
  {
   "cell_type": "code",
   "execution_count": 47,
   "metadata": {},
   "outputs": [
    {
     "data": {
      "text/plain": [
       "user_id         0\n",
       "timestamp       0\n",
       "group           0\n",
       "landing_page    0\n",
       "converted       0\n",
       "dtype: int64"
      ]
     },
     "execution_count": 47,
     "metadata": {},
     "output_type": "execute_result"
    }
   ],
   "source": [
    "data.isnull().sum()"
   ]
  },
  {
   "cell_type": "markdown",
   "metadata": {},
   "source": [
    "## Preparing the Data\n",
    "We need to adjust the data to the modeling conditions."
   ]
  },
  {
   "cell_type": "code",
   "execution_count": 49,
   "metadata": {},
   "outputs": [],
   "source": [
    "new_1 = data[(data.group == 'control') & (data.landing_page == 'old_page')]\n",
    "new_2 = data[(data.group == 'treatment') & (data.landing_page == 'new_page')]"
   ]
  },
  {
   "cell_type": "code",
   "execution_count": 52,
   "metadata": {
    "scrolled": true
   },
   "outputs": [
    {
     "data": {
      "text/html": [
       "<div>\n",
       "<style scoped>\n",
       "    .dataframe tbody tr th:only-of-type {\n",
       "        vertical-align: middle;\n",
       "    }\n",
       "\n",
       "    .dataframe tbody tr th {\n",
       "        vertical-align: top;\n",
       "    }\n",
       "\n",
       "    .dataframe thead th {\n",
       "        text-align: right;\n",
       "    }\n",
       "</style>\n",
       "<table border=\"1\" class=\"dataframe\">\n",
       "  <thead>\n",
       "    <tr style=\"text-align: right;\">\n",
       "      <th></th>\n",
       "      <th>user_id</th>\n",
       "      <th>timestamp</th>\n",
       "      <th>group</th>\n",
       "      <th>landing_page</th>\n",
       "      <th>converted</th>\n",
       "    </tr>\n",
       "  </thead>\n",
       "  <tbody>\n",
       "    <tr>\n",
       "      <th>0</th>\n",
       "      <td>851104</td>\n",
       "      <td>2017-01-21 22:11:48.556739</td>\n",
       "      <td>control</td>\n",
       "      <td>old_page</td>\n",
       "      <td>0</td>\n",
       "    </tr>\n",
       "    <tr>\n",
       "      <th>1</th>\n",
       "      <td>804228</td>\n",
       "      <td>2017-01-12 08:01:45.159739</td>\n",
       "      <td>control</td>\n",
       "      <td>old_page</td>\n",
       "      <td>0</td>\n",
       "    </tr>\n",
       "    <tr>\n",
       "      <th>2</th>\n",
       "      <td>864975</td>\n",
       "      <td>2017-01-21 01:52:26.210827</td>\n",
       "      <td>control</td>\n",
       "      <td>old_page</td>\n",
       "      <td>1</td>\n",
       "    </tr>\n",
       "    <tr>\n",
       "      <th>3</th>\n",
       "      <td>936923</td>\n",
       "      <td>2017-01-10 15:20:49.083499</td>\n",
       "      <td>control</td>\n",
       "      <td>old_page</td>\n",
       "      <td>0</td>\n",
       "    </tr>\n",
       "    <tr>\n",
       "      <th>4</th>\n",
       "      <td>719014</td>\n",
       "      <td>2017-01-17 01:48:29.539573</td>\n",
       "      <td>control</td>\n",
       "      <td>old_page</td>\n",
       "      <td>0</td>\n",
       "    </tr>\n",
       "    <tr>\n",
       "      <th>5</th>\n",
       "      <td>644214</td>\n",
       "      <td>2017-01-22 02:05:21.719434</td>\n",
       "      <td>control</td>\n",
       "      <td>old_page</td>\n",
       "      <td>1</td>\n",
       "    </tr>\n",
       "    <tr>\n",
       "      <th>6</th>\n",
       "      <td>847721</td>\n",
       "      <td>2017-01-17 14:01:00.090575</td>\n",
       "      <td>control</td>\n",
       "      <td>old_page</td>\n",
       "      <td>0</td>\n",
       "    </tr>\n",
       "    <tr>\n",
       "      <th>7</th>\n",
       "      <td>650559</td>\n",
       "      <td>2017-01-24 11:55:51.084801</td>\n",
       "      <td>control</td>\n",
       "      <td>old_page</td>\n",
       "      <td>0</td>\n",
       "    </tr>\n",
       "    <tr>\n",
       "      <th>8</th>\n",
       "      <td>935734</td>\n",
       "      <td>2017-01-17 20:33:37.428378</td>\n",
       "      <td>control</td>\n",
       "      <td>old_page</td>\n",
       "      <td>0</td>\n",
       "    </tr>\n",
       "    <tr>\n",
       "      <th>9</th>\n",
       "      <td>746742</td>\n",
       "      <td>2017-01-23 11:38:29.592148</td>\n",
       "      <td>control</td>\n",
       "      <td>old_page</td>\n",
       "      <td>0</td>\n",
       "    </tr>\n",
       "    <tr>\n",
       "      <th>10</th>\n",
       "      <td>913579</td>\n",
       "      <td>2017-01-24 09:11:39.164256</td>\n",
       "      <td>control</td>\n",
       "      <td>old_page</td>\n",
       "      <td>1</td>\n",
       "    </tr>\n",
       "    <tr>\n",
       "      <th>11</th>\n",
       "      <td>690284</td>\n",
       "      <td>2017-01-13 17:22:57.182769</td>\n",
       "      <td>control</td>\n",
       "      <td>old_page</td>\n",
       "      <td>0</td>\n",
       "    </tr>\n",
       "    <tr>\n",
       "      <th>12</th>\n",
       "      <td>710349</td>\n",
       "      <td>2017-01-11 22:24:44.226492</td>\n",
       "      <td>control</td>\n",
       "      <td>old_page</td>\n",
       "      <td>0</td>\n",
       "    </tr>\n",
       "    <tr>\n",
       "      <th>13</th>\n",
       "      <td>677533</td>\n",
       "      <td>2017-01-23 17:48:50.491821</td>\n",
       "      <td>control</td>\n",
       "      <td>old_page</td>\n",
       "      <td>0</td>\n",
       "    </tr>\n",
       "    <tr>\n",
       "      <th>14</th>\n",
       "      <td>831737</td>\n",
       "      <td>2017-01-11 21:18:20.911015</td>\n",
       "      <td>control</td>\n",
       "      <td>old_page</td>\n",
       "      <td>1</td>\n",
       "    </tr>\n",
       "    <tr>\n",
       "      <th>15</th>\n",
       "      <td>771087</td>\n",
       "      <td>2017-01-16 00:05:29.983919</td>\n",
       "      <td>control</td>\n",
       "      <td>old_page</td>\n",
       "      <td>0</td>\n",
       "    </tr>\n",
       "    <tr>\n",
       "      <th>16</th>\n",
       "      <td>896163</td>\n",
       "      <td>2017-01-22 09:10:20.753218</td>\n",
       "      <td>control</td>\n",
       "      <td>old_page</td>\n",
       "      <td>0</td>\n",
       "    </tr>\n",
       "    <tr>\n",
       "      <th>17</th>\n",
       "      <td>862225</td>\n",
       "      <td>2017-01-08 14:49:37.335432</td>\n",
       "      <td>control</td>\n",
       "      <td>old_page</td>\n",
       "      <td>1</td>\n",
       "    </tr>\n",
       "    <tr>\n",
       "      <th>18</th>\n",
       "      <td>939593</td>\n",
       "      <td>2017-01-05 09:15:31.984283</td>\n",
       "      <td>control</td>\n",
       "      <td>old_page</td>\n",
       "      <td>0</td>\n",
       "    </tr>\n",
       "    <tr>\n",
       "      <th>19</th>\n",
       "      <td>702260</td>\n",
       "      <td>2017-01-18 13:55:31.488221</td>\n",
       "      <td>control</td>\n",
       "      <td>old_page</td>\n",
       "      <td>0</td>\n",
       "    </tr>\n",
       "    <tr>\n",
       "      <th>20</th>\n",
       "      <td>670941</td>\n",
       "      <td>2017-01-05 08:16:41.306478</td>\n",
       "      <td>control</td>\n",
       "      <td>old_page</td>\n",
       "      <td>0</td>\n",
       "    </tr>\n",
       "    <tr>\n",
       "      <th>21</th>\n",
       "      <td>850231</td>\n",
       "      <td>2017-01-18 17:18:04.790584</td>\n",
       "      <td>control</td>\n",
       "      <td>old_page</td>\n",
       "      <td>1</td>\n",
       "    </tr>\n",
       "    <tr>\n",
       "      <th>22</th>\n",
       "      <td>685794</td>\n",
       "      <td>2017-01-20 14:54:58.150621</td>\n",
       "      <td>control</td>\n",
       "      <td>old_page</td>\n",
       "      <td>0</td>\n",
       "    </tr>\n",
       "    <tr>\n",
       "      <th>23</th>\n",
       "      <td>714733</td>\n",
       "      <td>2017-01-03 08:22:37.904146</td>\n",
       "      <td>control</td>\n",
       "      <td>old_page</td>\n",
       "      <td>0</td>\n",
       "    </tr>\n",
       "    <tr>\n",
       "      <th>24</th>\n",
       "      <td>710967</td>\n",
       "      <td>2017-01-10 02:19:22.842142</td>\n",
       "      <td>control</td>\n",
       "      <td>old_page</td>\n",
       "      <td>0</td>\n",
       "    </tr>\n",
       "    <tr>\n",
       "      <th>25</th>\n",
       "      <td>680201</td>\n",
       "      <td>2017-01-11 10:38:45.952887</td>\n",
       "      <td>control</td>\n",
       "      <td>old_page</td>\n",
       "      <td>0</td>\n",
       "    </tr>\n",
       "    <tr>\n",
       "      <th>26</th>\n",
       "      <td>790863</td>\n",
       "      <td>2017-01-19 11:02:39.220320</td>\n",
       "      <td>control</td>\n",
       "      <td>old_page</td>\n",
       "      <td>0</td>\n",
       "    </tr>\n",
       "    <tr>\n",
       "      <th>27</th>\n",
       "      <td>717595</td>\n",
       "      <td>2017-01-23 18:19:08.148166</td>\n",
       "      <td>control</td>\n",
       "      <td>old_page</td>\n",
       "      <td>0</td>\n",
       "    </tr>\n",
       "    <tr>\n",
       "      <th>28</th>\n",
       "      <td>779854</td>\n",
       "      <td>2017-01-11 21:28:30.735359</td>\n",
       "      <td>control</td>\n",
       "      <td>old_page</td>\n",
       "      <td>0</td>\n",
       "    </tr>\n",
       "    <tr>\n",
       "      <th>29</th>\n",
       "      <td>916307</td>\n",
       "      <td>2017-01-19 17:27:38.676600</td>\n",
       "      <td>control</td>\n",
       "      <td>old_page</td>\n",
       "      <td>0</td>\n",
       "    </tr>\n",
       "    <tr>\n",
       "      <th>...</th>\n",
       "      <td>...</td>\n",
       "      <td>...</td>\n",
       "      <td>...</td>\n",
       "      <td>...</td>\n",
       "      <td>...</td>\n",
       "    </tr>\n",
       "    <tr>\n",
       "      <th>290555</th>\n",
       "      <td>924332</td>\n",
       "      <td>2017-01-15 19:38:52.858024</td>\n",
       "      <td>treatment</td>\n",
       "      <td>new_page</td>\n",
       "      <td>0</td>\n",
       "    </tr>\n",
       "    <tr>\n",
       "      <th>290556</th>\n",
       "      <td>849625</td>\n",
       "      <td>2017-01-06 17:54:07.563311</td>\n",
       "      <td>treatment</td>\n",
       "      <td>new_page</td>\n",
       "      <td>0</td>\n",
       "    </tr>\n",
       "    <tr>\n",
       "      <th>290557</th>\n",
       "      <td>929723</td>\n",
       "      <td>2017-01-10 15:13:48.352399</td>\n",
       "      <td>treatment</td>\n",
       "      <td>new_page</td>\n",
       "      <td>0</td>\n",
       "    </tr>\n",
       "    <tr>\n",
       "      <th>290558</th>\n",
       "      <td>774769</td>\n",
       "      <td>2017-01-03 06:01:36.251836</td>\n",
       "      <td>treatment</td>\n",
       "      <td>new_page</td>\n",
       "      <td>0</td>\n",
       "    </tr>\n",
       "    <tr>\n",
       "      <th>290559</th>\n",
       "      <td>733871</td>\n",
       "      <td>2017-01-21 17:54:08.810964</td>\n",
       "      <td>treatment</td>\n",
       "      <td>new_page</td>\n",
       "      <td>1</td>\n",
       "    </tr>\n",
       "    <tr>\n",
       "      <th>290560</th>\n",
       "      <td>844588</td>\n",
       "      <td>2017-01-16 20:48:19.567178</td>\n",
       "      <td>treatment</td>\n",
       "      <td>new_page</td>\n",
       "      <td>0</td>\n",
       "    </tr>\n",
       "    <tr>\n",
       "      <th>290561</th>\n",
       "      <td>641244</td>\n",
       "      <td>2017-01-07 16:57:26.193171</td>\n",
       "      <td>treatment</td>\n",
       "      <td>new_page</td>\n",
       "      <td>0</td>\n",
       "    </tr>\n",
       "    <tr>\n",
       "      <th>290562</th>\n",
       "      <td>676072</td>\n",
       "      <td>2017-01-14 17:26:02.495442</td>\n",
       "      <td>treatment</td>\n",
       "      <td>new_page</td>\n",
       "      <td>0</td>\n",
       "    </tr>\n",
       "    <tr>\n",
       "      <th>290563</th>\n",
       "      <td>886374</td>\n",
       "      <td>2017-01-07 13:43:39.202634</td>\n",
       "      <td>treatment</td>\n",
       "      <td>new_page</td>\n",
       "      <td>0</td>\n",
       "    </tr>\n",
       "    <tr>\n",
       "      <th>290564</th>\n",
       "      <td>676732</td>\n",
       "      <td>2017-01-03 23:06:45.459467</td>\n",
       "      <td>treatment</td>\n",
       "      <td>new_page</td>\n",
       "      <td>0</td>\n",
       "    </tr>\n",
       "    <tr>\n",
       "      <th>290565</th>\n",
       "      <td>862218</td>\n",
       "      <td>2017-01-04 10:43:07.846494</td>\n",
       "      <td>treatment</td>\n",
       "      <td>new_page</td>\n",
       "      <td>0</td>\n",
       "    </tr>\n",
       "    <tr>\n",
       "      <th>290566</th>\n",
       "      <td>798826</td>\n",
       "      <td>2017-01-23 16:50:13.788528</td>\n",
       "      <td>treatment</td>\n",
       "      <td>new_page</td>\n",
       "      <td>0</td>\n",
       "    </tr>\n",
       "    <tr>\n",
       "      <th>290567</th>\n",
       "      <td>836721</td>\n",
       "      <td>2017-01-12 17:37:50.966955</td>\n",
       "      <td>treatment</td>\n",
       "      <td>new_page</td>\n",
       "      <td>0</td>\n",
       "    </tr>\n",
       "    <tr>\n",
       "      <th>290568</th>\n",
       "      <td>844901</td>\n",
       "      <td>2017-01-15 17:46:36.622726</td>\n",
       "      <td>treatment</td>\n",
       "      <td>new_page</td>\n",
       "      <td>0</td>\n",
       "    </tr>\n",
       "    <tr>\n",
       "      <th>290569</th>\n",
       "      <td>653124</td>\n",
       "      <td>2017-01-14 13:44:51.745491</td>\n",
       "      <td>treatment</td>\n",
       "      <td>new_page</td>\n",
       "      <td>0</td>\n",
       "    </tr>\n",
       "    <tr>\n",
       "      <th>290570</th>\n",
       "      <td>909437</td>\n",
       "      <td>2017-01-18 14:49:49.064452</td>\n",
       "      <td>treatment</td>\n",
       "      <td>new_page</td>\n",
       "      <td>0</td>\n",
       "    </tr>\n",
       "    <tr>\n",
       "      <th>290571</th>\n",
       "      <td>776137</td>\n",
       "      <td>2017-01-12 05:53:12.386730</td>\n",
       "      <td>treatment</td>\n",
       "      <td>new_page</td>\n",
       "      <td>0</td>\n",
       "    </tr>\n",
       "    <tr>\n",
       "      <th>290572</th>\n",
       "      <td>883344</td>\n",
       "      <td>2017-01-22 23:15:58.645325</td>\n",
       "      <td>treatment</td>\n",
       "      <td>new_page</td>\n",
       "      <td>0</td>\n",
       "    </tr>\n",
       "    <tr>\n",
       "      <th>290573</th>\n",
       "      <td>825594</td>\n",
       "      <td>2017-01-06 12:37:08.897784</td>\n",
       "      <td>treatment</td>\n",
       "      <td>new_page</td>\n",
       "      <td>0</td>\n",
       "    </tr>\n",
       "    <tr>\n",
       "      <th>290574</th>\n",
       "      <td>937338</td>\n",
       "      <td>2017-01-19 03:23:22.236666</td>\n",
       "      <td>treatment</td>\n",
       "      <td>new_page</td>\n",
       "      <td>0</td>\n",
       "    </tr>\n",
       "    <tr>\n",
       "      <th>290575</th>\n",
       "      <td>733101</td>\n",
       "      <td>2017-01-23 12:52:58.711914</td>\n",
       "      <td>treatment</td>\n",
       "      <td>new_page</td>\n",
       "      <td>0</td>\n",
       "    </tr>\n",
       "    <tr>\n",
       "      <th>290576</th>\n",
       "      <td>679096</td>\n",
       "      <td>2017-01-02 16:43:49.237940</td>\n",
       "      <td>treatment</td>\n",
       "      <td>new_page</td>\n",
       "      <td>0</td>\n",
       "    </tr>\n",
       "    <tr>\n",
       "      <th>290577</th>\n",
       "      <td>691699</td>\n",
       "      <td>2017-01-09 23:42:35.963486</td>\n",
       "      <td>treatment</td>\n",
       "      <td>new_page</td>\n",
       "      <td>0</td>\n",
       "    </tr>\n",
       "    <tr>\n",
       "      <th>290578</th>\n",
       "      <td>807595</td>\n",
       "      <td>2017-01-22 10:43:09.285426</td>\n",
       "      <td>treatment</td>\n",
       "      <td>new_page</td>\n",
       "      <td>0</td>\n",
       "    </tr>\n",
       "    <tr>\n",
       "      <th>290579</th>\n",
       "      <td>846225</td>\n",
       "      <td>2017-01-16 15:24:46.705903</td>\n",
       "      <td>treatment</td>\n",
       "      <td>new_page</td>\n",
       "      <td>0</td>\n",
       "    </tr>\n",
       "    <tr>\n",
       "      <th>290580</th>\n",
       "      <td>677163</td>\n",
       "      <td>2017-01-03 19:41:51.902148</td>\n",
       "      <td>treatment</td>\n",
       "      <td>new_page</td>\n",
       "      <td>0</td>\n",
       "    </tr>\n",
       "    <tr>\n",
       "      <th>290581</th>\n",
       "      <td>925675</td>\n",
       "      <td>2017-01-07 20:38:26.346410</td>\n",
       "      <td>treatment</td>\n",
       "      <td>new_page</td>\n",
       "      <td>0</td>\n",
       "    </tr>\n",
       "    <tr>\n",
       "      <th>290582</th>\n",
       "      <td>643562</td>\n",
       "      <td>2017-01-02 19:20:05.460595</td>\n",
       "      <td>treatment</td>\n",
       "      <td>new_page</td>\n",
       "      <td>0</td>\n",
       "    </tr>\n",
       "    <tr>\n",
       "      <th>290583</th>\n",
       "      <td>822004</td>\n",
       "      <td>2017-01-04 03:36:46.071379</td>\n",
       "      <td>treatment</td>\n",
       "      <td>new_page</td>\n",
       "      <td>0</td>\n",
       "    </tr>\n",
       "    <tr>\n",
       "      <th>290584</th>\n",
       "      <td>715931</td>\n",
       "      <td>2017-01-16 12:40:24.467417</td>\n",
       "      <td>treatment</td>\n",
       "      <td>new_page</td>\n",
       "      <td>0</td>\n",
       "    </tr>\n",
       "  </tbody>\n",
       "</table>\n",
       "<p>290585 rows × 5 columns</p>\n",
       "</div>"
      ],
      "text/plain": [
       "        user_id                   timestamp      group landing_page  converted\n",
       "0        851104  2017-01-21 22:11:48.556739    control     old_page          0\n",
       "1        804228  2017-01-12 08:01:45.159739    control     old_page          0\n",
       "2        864975  2017-01-21 01:52:26.210827    control     old_page          1\n",
       "3        936923  2017-01-10 15:20:49.083499    control     old_page          0\n",
       "4        719014  2017-01-17 01:48:29.539573    control     old_page          0\n",
       "5        644214  2017-01-22 02:05:21.719434    control     old_page          1\n",
       "6        847721  2017-01-17 14:01:00.090575    control     old_page          0\n",
       "7        650559  2017-01-24 11:55:51.084801    control     old_page          0\n",
       "8        935734  2017-01-17 20:33:37.428378    control     old_page          0\n",
       "9        746742  2017-01-23 11:38:29.592148    control     old_page          0\n",
       "10       913579  2017-01-24 09:11:39.164256    control     old_page          1\n",
       "11       690284  2017-01-13 17:22:57.182769    control     old_page          0\n",
       "12       710349  2017-01-11 22:24:44.226492    control     old_page          0\n",
       "13       677533  2017-01-23 17:48:50.491821    control     old_page          0\n",
       "14       831737  2017-01-11 21:18:20.911015    control     old_page          1\n",
       "15       771087  2017-01-16 00:05:29.983919    control     old_page          0\n",
       "16       896163  2017-01-22 09:10:20.753218    control     old_page          0\n",
       "17       862225  2017-01-08 14:49:37.335432    control     old_page          1\n",
       "18       939593  2017-01-05 09:15:31.984283    control     old_page          0\n",
       "19       702260  2017-01-18 13:55:31.488221    control     old_page          0\n",
       "20       670941  2017-01-05 08:16:41.306478    control     old_page          0\n",
       "21       850231  2017-01-18 17:18:04.790584    control     old_page          1\n",
       "22       685794  2017-01-20 14:54:58.150621    control     old_page          0\n",
       "23       714733  2017-01-03 08:22:37.904146    control     old_page          0\n",
       "24       710967  2017-01-10 02:19:22.842142    control     old_page          0\n",
       "25       680201  2017-01-11 10:38:45.952887    control     old_page          0\n",
       "26       790863  2017-01-19 11:02:39.220320    control     old_page          0\n",
       "27       717595  2017-01-23 18:19:08.148166    control     old_page          0\n",
       "28       779854  2017-01-11 21:28:30.735359    control     old_page          0\n",
       "29       916307  2017-01-19 17:27:38.676600    control     old_page          0\n",
       "...         ...                         ...        ...          ...        ...\n",
       "290555   924332  2017-01-15 19:38:52.858024  treatment     new_page          0\n",
       "290556   849625  2017-01-06 17:54:07.563311  treatment     new_page          0\n",
       "290557   929723  2017-01-10 15:13:48.352399  treatment     new_page          0\n",
       "290558   774769  2017-01-03 06:01:36.251836  treatment     new_page          0\n",
       "290559   733871  2017-01-21 17:54:08.810964  treatment     new_page          1\n",
       "290560   844588  2017-01-16 20:48:19.567178  treatment     new_page          0\n",
       "290561   641244  2017-01-07 16:57:26.193171  treatment     new_page          0\n",
       "290562   676072  2017-01-14 17:26:02.495442  treatment     new_page          0\n",
       "290563   886374  2017-01-07 13:43:39.202634  treatment     new_page          0\n",
       "290564   676732  2017-01-03 23:06:45.459467  treatment     new_page          0\n",
       "290565   862218  2017-01-04 10:43:07.846494  treatment     new_page          0\n",
       "290566   798826  2017-01-23 16:50:13.788528  treatment     new_page          0\n",
       "290567   836721  2017-01-12 17:37:50.966955  treatment     new_page          0\n",
       "290568   844901  2017-01-15 17:46:36.622726  treatment     new_page          0\n",
       "290569   653124  2017-01-14 13:44:51.745491  treatment     new_page          0\n",
       "290570   909437  2017-01-18 14:49:49.064452  treatment     new_page          0\n",
       "290571   776137  2017-01-12 05:53:12.386730  treatment     new_page          0\n",
       "290572   883344  2017-01-22 23:15:58.645325  treatment     new_page          0\n",
       "290573   825594  2017-01-06 12:37:08.897784  treatment     new_page          0\n",
       "290574   937338  2017-01-19 03:23:22.236666  treatment     new_page          0\n",
       "290575   733101  2017-01-23 12:52:58.711914  treatment     new_page          0\n",
       "290576   679096  2017-01-02 16:43:49.237940  treatment     new_page          0\n",
       "290577   691699  2017-01-09 23:42:35.963486  treatment     new_page          0\n",
       "290578   807595  2017-01-22 10:43:09.285426  treatment     new_page          0\n",
       "290579   846225  2017-01-16 15:24:46.705903  treatment     new_page          0\n",
       "290580   677163  2017-01-03 19:41:51.902148  treatment     new_page          0\n",
       "290581   925675  2017-01-07 20:38:26.346410  treatment     new_page          0\n",
       "290582   643562  2017-01-02 19:20:05.460595  treatment     new_page          0\n",
       "290583   822004  2017-01-04 03:36:46.071379  treatment     new_page          0\n",
       "290584   715931  2017-01-16 12:40:24.467417  treatment     new_page          0\n",
       "\n",
       "[290585 rows x 5 columns]"
      ]
     },
     "execution_count": 52,
     "metadata": {},
     "output_type": "execute_result"
    }
   ],
   "source": [
    "#concat the two required conditions\n",
    "data2 = pd.concat([new_1,new_2], keys=['control','treatment'], axis = 0)\n",
    "data2.reset_index(drop=True)"
   ]
  },
  {
   "cell_type": "code",
   "execution_count": 53,
   "metadata": {},
   "outputs": [
    {
     "data": {
      "text/plain": [
       "0"
      ]
     },
     "execution_count": 53,
     "metadata": {},
     "output_type": "execute_result"
    }
   ],
   "source": [
    "#double check if all of the correct rows were removed - this should be 0\n",
    "data2[((data2['group'] == 'treatment') == (data2['landing_page'] == 'new_page')) == False].shape[0]"
   ]
  },
  {
   "cell_type": "code",
   "execution_count": 132,
   "metadata": {},
   "outputs": [
    {
     "data": {
      "image/png": "[encoded data removed]",
      "text/plain": [
       "<matplotlib.figure.Figure at 0x1e4df5936a0>"
      ]
     },
     "metadata": {},
     "output_type": "display_data"
    }
   ],
   "source": [
    "data2['landing_page'].value_counts().plot(kind='bar', figsize=(8,8));"
   ]
  },
  {
   "cell_type": "code",
   "execution_count": 131,
   "metadata": {},
   "outputs": [
    {
     "data": {
      "image/png": "[encoded data removed]",
      "text/plain": [
       "<matplotlib.figure.Figure at 0x1e4df53e588>"
      ]
     },
     "metadata": {},
     "output_type": "display_data"
    }
   ],
   "source": [
    "data2['landing_page'].value_counts().plot(kind='pie', autopct='%.2f', figsize=(8,8));"
   ]
  },
  {
   "cell_type": "markdown",
   "metadata": {},
   "source": [
    "# IV. Probability of Individual Do Converting\n",
    "Just to see the manual probability of user/viewer do converting in control and treatment group."
   ]
  },
  {
   "cell_type": "code",
   "execution_count": 61,
   "metadata": {},
   "outputs": [
    {
     "data": {
      "text/plain": [
       "0.11959667567149027"
      ]
     },
     "execution_count": 61,
     "metadata": {},
     "output_type": "execute_result"
    }
   ],
   "source": [
    "# Calculate the probability of an individual converting regardless of the page they receive\n",
    "data2['converted'].mean()"
   ]
  },
  {
   "cell_type": "code",
   "execution_count": 62,
   "metadata": {},
   "outputs": [
    {
     "data": {
      "text/plain": [
       "0.1203863045004612"
      ]
     },
     "execution_count": 62,
     "metadata": {},
     "output_type": "execute_result"
    }
   ],
   "source": [
    "# Calculate the probabilty the individual was in the control group to convert\n",
    "data2[data2['group'] == 'control']['converted'].mean()"
   ]
  },
  {
   "cell_type": "code",
   "execution_count": 63,
   "metadata": {},
   "outputs": [
    {
     "data": {
      "text/plain": [
       "0.11880724790277405"
      ]
     },
     "execution_count": 63,
     "metadata": {},
     "output_type": "execute_result"
    }
   ],
   "source": [
    "# Calculate the probabilty the individual was in the treatment group to convert\n",
    "data2[data2['group'] == 'treatment']['converted'].mean()"
   ]
  },
  {
   "cell_type": "code",
   "execution_count": 66,
   "metadata": {},
   "outputs": [
    {
     "data": {
      "text/plain": [
       "0.5000619442226688"
      ]
     },
     "execution_count": 66,
     "metadata": {},
     "output_type": "execute_result"
    }
   ],
   "source": [
    "# Calculate the probabilty that an individual received the new page\n",
    "p_n = data2.query('landing_page == \"new_page\"').user_id.nunique()/data2.user_id.nunique()\n",
    "#The probability that an individual received the new page is 50.00%\n",
    "p_n"
   ]
  },
  {
   "cell_type": "markdown",
   "metadata": {},
   "source": [
    "## Probability Result\n",
    "While comparing treatment and control, it turns out that control scored higher than treatment. It seems to be that there is insufficient evidence to say that the new treatment page leads to more conversions than the control page. The difference of probability between control that is 12.04% and treatment groups that is 11.88% is tiny, especially when we compare them with the probability of individual conversion that is 11.96%. It is hard to tell that one page leads to more conversion because the probability that the individual received the page is 50%."
   ]
  },
  {
   "cell_type": "markdown",
   "metadata": {},
   "source": [
    "# V. A/B Testing\n",
    "Now, we will run a hypothesis test continuously as each observation was observed with the time stamp associated with each event. <br>\n",
    "We will consider making the decision only based on all the data provided. Further, assume that the old page is better unless the new page proves to be definitely better at a Type I error rate of 5%. The null and alternative hypotheses follow below:\n",
    "\n",
    "**Hypothesis**\n",
    "* $H_{0}$: $P_{new}$-$P_{old}$ $<=$ $0$\n",
    "* $H_{1}$: $P_{old}$ - $P_{new}$ $>$ $0$\n",
    "\n",
    "Assume under the null hypothesis, $P_{new}$ and $P_{old}$ both have \"true\" success rates equal to the converted success rate regardless of page - that is $P_{new}$ and $P_{old}$ are equal. Furthermore, assume they are equal to the converted rate in data regardless of the page. "
   ]
  },
  {
   "cell_type": "code",
   "execution_count": 72,
   "metadata": {},
   "outputs": [
    {
     "data": {
      "text/plain": [
       "0.11959667567149027"
      ]
     },
     "execution_count": 72,
     "metadata": {},
     "output_type": "execute_result"
    }
   ],
   "source": [
    "#convert rate for $P_{new}$ under the null\n",
    "Pnew = data2.converted.mean()\n",
    "Pnew"
   ]
  },
  {
   "cell_type": "code",
   "execution_count": 73,
   "metadata": {},
   "outputs": [
    {
     "data": {
      "text/plain": [
       "0.11959667567149027"
      ]
     },
     "execution_count": 73,
     "metadata": {},
     "output_type": "execute_result"
    }
   ],
   "source": [
    "#convert rate for $P_{old}$ under the null\n",
    "Pold = data2.converted.mean()\n",
    "Pold"
   ]
  },
  {
   "cell_type": "markdown",
   "metadata": {},
   "source": [
    "Since Pnew and Pold both have \"true\" success rates equally, their converted rate will have the same result."
   ]
  },
  {
   "cell_type": "code",
   "execution_count": 75,
   "metadata": {},
   "outputs": [
    {
     "data": {
      "text/plain": [
       "145311"
      ]
     },
     "execution_count": 75,
     "metadata": {},
     "output_type": "execute_result"
    }
   ],
   "source": [
    "#count the total unique users with new page\n",
    "n_new = data2.query('landing_page == \"new_page\" ').count()[0]\n",
    "n_new"
   ]
  },
  {
   "cell_type": "code",
   "execution_count": 76,
   "metadata": {},
   "outputs": [
    {
     "data": {
      "text/plain": [
       "145274"
      ]
     },
     "execution_count": 76,
     "metadata": {},
     "output_type": "execute_result"
    }
   ],
   "source": [
    "#count the total unique users with old page\n",
    "n_old = data2.query('landing_page == \"old_page\" ').count()[0]\n",
    "n_old"
   ]
  },
  {
   "cell_type": "code",
   "execution_count": 78,
   "metadata": {},
   "outputs": [
    {
     "data": {
      "text/plain": [
       "array([0, 0, 1, ..., 1, 1, 1])"
      ]
     },
     "execution_count": 78,
     "metadata": {},
     "output_type": "execute_result"
    }
   ],
   "source": [
    "#simulate n_new transactions with a convertion rate of  Pnew under the null. \n",
    "#store these n_new 1's and 0's in new_page_converted\n",
    "new_page_converted = np.random.choice([0,1],n_new, p=(Pnew,1-Pnew))\n",
    "new_page_converted"
   ]
  },
  {
   "cell_type": "code",
   "execution_count": 79,
   "metadata": {},
   "outputs": [
    {
     "data": {
      "text/plain": [
       "array([1, 0, 1, ..., 1, 1, 1])"
      ]
     },
     "execution_count": 79,
     "metadata": {},
     "output_type": "execute_result"
    }
   ],
   "source": [
    "#simulate n_new transactions with a convert rate of  Pold under the null. \n",
    "#store these  n_new 1's and 0's in old_page_converted\n",
    "old_page_converted = np.random.choice([0,1],n_old, p=(Pold,1-Pold))\n",
    "old_page_converted"
   ]
  },
  {
   "cell_type": "code",
   "execution_count": 80,
   "metadata": {},
   "outputs": [
    {
     "data": {
      "text/plain": [
       "0.880112310836757"
      ]
     },
     "execution_count": 80,
     "metadata": {},
     "output_type": "execute_result"
    }
   ],
   "source": [
    "#find the difference between Pnew and Pold\n",
    "#find out the mean of new_page_converted\n",
    "new_page_converted.mean()"
   ]
  },
  {
   "cell_type": "code",
   "execution_count": 81,
   "metadata": {},
   "outputs": [
    {
     "data": {
      "text/plain": [
       "0.8813276980051489"
      ]
     },
     "execution_count": 81,
     "metadata": {},
     "output_type": "execute_result"
    }
   ],
   "source": [
    "#find out the mean of old_page_converted\n",
    "old_page_converted.mean()"
   ]
  },
  {
   "cell_type": "code",
   "execution_count": 85,
   "metadata": {},
   "outputs": [
    {
     "data": {
      "text/plain": [
       "-0.00023000112036383746"
      ]
     },
     "execution_count": 85,
     "metadata": {},
     "output_type": "execute_result"
    }
   ],
   "source": [
    "#diff_conv is the difference between p_new and p_old.\n",
    "diff_conv = new_page_converted.mean() - old_page_converted.mean()\n",
    "diff_conv"
   ]
  },
  {
   "cell_type": "code",
   "execution_count": 93,
   "metadata": {},
   "outputs": [],
   "source": [
    "#simulate 10,000 Pnew - Pold values with random binomial\n",
    "new_converted_simulation = np.random.binomial(n_new, Pnew,  10000)/n_new\n",
    "old_converted_simulation = np.random.binomial(n_old, Pold,  10000)/n_old\n",
    "p_diffs = new_converted_simulation - old_converted_simulation\n",
    "p_diffs = np.array(p_diffs)"
   ]
  },
  {
   "cell_type": "code",
   "execution_count": 94,
   "metadata": {},
   "outputs": [
    {
     "data": {
      "image/png": "[encoded data removed]",
      "text/plain": [
       "<matplotlib.figure.Figure at 0x1e4d85bd860>"
      ]
     },
     "metadata": {},
     "output_type": "display_data"
    }
   ],
   "source": [
    "plt.hist(p_diffs);"
   ]
  },
  {
   "cell_type": "code",
   "execution_count": 89,
   "metadata": {},
   "outputs": [
    {
     "data": {
      "text/plain": [
       "-0.0015790565976871451"
      ]
     },
     "execution_count": 89,
     "metadata": {},
     "output_type": "execute_result"
    }
   ],
   "source": [
    "#calculate actual difference observed\n",
    "new_convert = data2.query('converted == 1 and landing_page == \"new_page\"').count()[0]/n_new\n",
    "old_convert = data2.query('converted == 1 and landing_page == \"old_page\"').count()[0]/n_old\n",
    "obs_diff = new_convert - old_convert\n",
    "obs_diff"
   ]
  },
  {
   "cell_type": "code",
   "execution_count": 95,
   "metadata": {},
   "outputs": [
    {
     "data": {
      "image/png": "[encoded data removed]",
      "text/plain": [
       "<matplotlib.figure.Figure at 0x1e4d99fcef0>"
      ]
     },
     "metadata": {},
     "output_type": "display_data"
    }
   ],
   "source": [
    "#plot proportion of the p_diffs are greater than the actual difference observed \n",
    "plt.hist(p_diffs);\n",
    "plt.axvline(x=obs_diff, color='red');"
   ]
  },
  {
   "cell_type": "code",
   "execution_count": 97,
   "metadata": {},
   "outputs": [
    {
     "data": {
      "text/plain": [
       "0.906"
      ]
     },
     "execution_count": 97,
     "metadata": {},
     "output_type": "execute_result"
    }
   ],
   "source": [
    "#proportion of the p_diffs are greater than the actual difference observed \n",
    "(p_diffs > obs_diff).mean()"
   ]
  },
  {
   "cell_type": "code",
   "execution_count": 99,
   "metadata": {},
   "outputs": [
    {
     "data": {
      "text/plain": [
       "0.094"
      ]
     },
     "execution_count": 99,
     "metadata": {},
     "output_type": "execute_result"
    }
   ],
   "source": [
    "(p_diffs < obs_diff).mean()"
   ]
  },
  {
   "cell_type": "markdown",
   "metadata": {},
   "source": [
    "Sampling distribution analysis:\n",
    "\n",
    "1. The proportion of the conversion rate differences were greater than the actual observed difference. The p-value is extremely large (90%) than the type I error rate (5%).That means we fail to reject the null hypothesis.\n",
    "\n",
    "2. According to Wikipedia, p-value is the probability for a given statistical model that, when the null hypothesis is true, the statistical summary (such as the sample mean difference between two compared groups) would be the same as or of greater magnitude than the actual observed results.\n",
    "\n",
    "3. When the p-value is low (in this project less than 5%), it suggests that the null hypothesis is not true, and we need to consider the alternative hypothesis. Finally, the p-value of 90% indicates that the actual page should be maintained."
   ]
  },
  {
   "cell_type": "markdown",
   "metadata": {},
   "source": [
    "Now, we will use stats.proportions_ztest to compute statistic test and p-value for evaluating if there is a statistically significance difference in conversion rates of the new page and the conversion rates of the old page.<br>\n",
    "First, we will calculate the number of conversions for each page, as well as the number of individuals who received each page. The n_old and n_new refer the the number of rows associated with the old page and new pages, respectively."
   ]
  },
  {
   "cell_type": "code",
   "execution_count": 107,
   "metadata": {},
   "outputs": [],
   "source": [
    "convert_old = df2.query('converted == 1 and landing_page == \"old_page\"').count()[0]\n",
    "convert_new = df2.query('converted == 1 and landing_page == \"new_page\"').count()[0]\n",
    "n_old = df2.query('landing_page == \"old_page\" ').count()[0]\n",
    "n_new = df2.query('landing_page == \"new_page\" ').count()[0]"
   ]
  },
  {
   "cell_type": "code",
   "execution_count": 102,
   "metadata": {},
   "outputs": [
    {
     "data": {
      "text/plain": [
       "(17489, 17264, 145274, 145310)"
      ]
     },
     "execution_count": 102,
     "metadata": {},
     "output_type": "execute_result"
    }
   ],
   "source": [
    "convert_old,convert_new,n_old,n_new"
   ]
  },
  {
   "cell_type": "code",
   "execution_count": 103,
   "metadata": {},
   "outputs": [],
   "source": [
    "z_score, p_value = sm.stats.proportions_ztest(np.array([convert_new,convert_old]),\\\n",
    "                                              np.array([n_new,n_old]), alternative = 'larger')"
   ]
  },
  {
   "cell_type": "code",
   "execution_count": 104,
   "metadata": {},
   "outputs": [
    {
     "data": {
      "text/plain": [
       "(-1.3109241984234394, 0.9050583127590245)"
      ]
     },
     "execution_count": 104,
     "metadata": {},
     "output_type": "execute_result"
    }
   ],
   "source": [
    "z_score, p_value"
   ]
  },
  {
   "cell_type": "code",
   "execution_count": 108,
   "metadata": {},
   "outputs": [
    {
     "data": {
      "text/plain": [
       "0.09494168724097551"
      ]
     },
     "execution_count": 108,
     "metadata": {},
     "output_type": "execute_result"
    }
   ],
   "source": [
    "norm.cdf(z_score)"
   ]
  },
  {
   "cell_type": "code",
   "execution_count": 109,
   "metadata": {},
   "outputs": [
    {
     "data": {
      "text/plain": [
       "1.959963984540054"
      ]
     },
     "execution_count": 109,
     "metadata": {},
     "output_type": "execute_result"
    }
   ],
   "source": [
    "norm.ppf(1-(0.05/2))"
   ]
  },
  {
   "cell_type": "code",
   "execution_count": 126,
   "metadata": {},
   "outputs": [],
   "source": [
    "def Z_test(convert_new,convert_old):\n",
    "    z_score, p_value = sm.stats.proportions_ztest(np.array([convert_new,convert_old]),\\\n",
    "                                              np.array([n_new,n_old]), alternative = 'larger')\n",
    "    ztable=norm.ppf(1-(0.05/2))\n",
    "    Decision1='Reject Null Hypothesis'\n",
    "    Decision2='Accept Null Hypothesis'\n",
    "    Decision= Decision1 if p_value<0.05 else Decision2\n",
    "    \n",
    "    table=pd.DataFrame()\n",
    "    table['Z_Score']=[z_score]\n",
    "    table['P-Value']=[p_value]\n",
    "    table['Z-Table']=[ztable]\n",
    "    table['Decision']=[Decision]\n",
    "    return table\n"
   ]
  },
  {
   "cell_type": "code",
   "execution_count": 127,
   "metadata": {},
   "outputs": [
    {
     "data": {
      "text/html": [
       "<div>\n",
       "<style scoped>\n",
       "    .dataframe tbody tr th:only-of-type {\n",
       "        vertical-align: middle;\n",
       "    }\n",
       "\n",
       "    .dataframe tbody tr th {\n",
       "        vertical-align: top;\n",
       "    }\n",
       "\n",
       "    .dataframe thead th {\n",
       "        text-align: right;\n",
       "    }\n",
       "</style>\n",
       "<table border=\"1\" class=\"dataframe\">\n",
       "  <thead>\n",
       "    <tr style=\"text-align: right;\">\n",
       "      <th></th>\n",
       "      <th>Z_Score</th>\n",
       "      <th>P-Value</th>\n",
       "      <th>Z-Table</th>\n",
       "      <th>Decision</th>\n",
       "    </tr>\n",
       "  </thead>\n",
       "  <tbody>\n",
       "    <tr>\n",
       "      <th>0</th>\n",
       "      <td>-1.310924</td>\n",
       "      <td>0.905058</td>\n",
       "      <td>1.959964</td>\n",
       "      <td>Accept Null Hypothesis</td>\n",
       "    </tr>\n",
       "  </tbody>\n",
       "</table>\n",
       "</div>"
      ],
      "text/plain": [
       "    Z_Score   P-Value   Z-Table                Decision\n",
       "0 -1.310924  0.905058  1.959964  Accept Null Hypothesis"
      ]
     },
     "execution_count": 127,
     "metadata": {},
     "output_type": "execute_result"
    }
   ],
   "source": [
    "Z_test(convert_new,convert_old)"
   ]
  },
  {
   "cell_type": "markdown",
   "metadata": {},
   "source": [
    "# VI. Conclusion\n",
    "\n",
    "**Z-test analysis** <br>\n",
    "\n",
    "In this modeling, the p-value associated with a 95% confidence level is 0.05. <br>\n",
    "From the A/B Testing result above,  if z-score is between -1.96 and +1.96, p-value will be larger than 0.05, and we cannot reject the null hypothsis; the pattern exhibited is a pattern that could very likely be one version of a random pattern.<br>\n",
    "In this case z-score is equal to 1.3109, which falls within -1.96 and 1.96. Therefore, we fail to reject the null. The p-value associated with a 95% confidence level is 0.05. If z-score is between -1.96 and +1.96, p-value will be larger than 0.05, and we cannot reject the null hypothsis; the pattern exhibited is a pattern that could very likely be one version of a random pattern. In this case z-score is equal to 1.3109, which falls within -1.96 and 1.96. <br>\n",
    "Therefore, **we fail to reject the null or accept the null hypothesis**. \n"
   ]
  },
  {
   "cell_type": "code",
   "execution_count": null,
   "metadata": {},
   "outputs": [],
   "source": []
  }
 ],
 "metadata": {
  "kernelspec": {
   "display_name": "Python 3",
   "language": "python",
   "name": "python3"
  },
  "language_info": {
   "codemirror_mode": {
    "name": "ipython",
    "version": 3
   },
   "file_extension": ".py",
   "mimetype": "text/x-python",
   "name": "python",
   "nbconvert_exporter": "python",
   "pygments_lexer": "ipython3",
   "version": "3.6.4"
  }
 },
 "nbformat": 4,
 "nbformat_minor": 2
}
